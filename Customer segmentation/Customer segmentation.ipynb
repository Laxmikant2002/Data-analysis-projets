{
 "cells": [
  {
   "cell_type": "code",
   "execution_count": 24,
   "id": "f37f7abd-9da8-4056-863d-51bac14d0276",
   "metadata": {},
   "outputs": [],
   "source": [
    "import pandas as pd\n",
    "import numpy as np \n",
    "import matplotlib.pyplot as plt \n",
    "\n",
    "import itertools\n",
    "from pathlib import Path\n",
    "from sklearn.preprocessing import StandardScaler\n",
    "from sklearn.cluster import KMeans\n",
    "from sklearn.metrics import silhouette_samples, silhouette_score\n",
    "from sklearn import preprocessing, model_selection, metrics, feature_selection\n",
    "\n",
    "\n",
    "import datetime, nltk, warnings \n",
    "from wordcloud import WordCloud, STOPWORDS "
   ]
  },
  {
   "cell_type": "code",
   "execution_count": 27,
   "id": "50eca292-88e8-4408-80a3-ffde7f5fc86f",
   "metadata": {},
   "outputs": [],
   "source": [
    "import os\n",
    "os.environ['OMP_NUM_THREADS'] = '1'\n"
   ]
  },
  {
   "cell_type": "code",
   "execution_count": null,
   "id": "f7c46efb-15de-400f-9057-6fbe74cbe1cc",
   "metadata": {},
   "outputs": [],
   "source": [
    "from sklearn.cluster import DBSCAN"
   ]
  },
  {
   "cell_type": "code",
   "execution_count": 8,
   "id": "20de5d63-78b0-4cf4-9db7-3fba8a75af94",
   "metadata": {},
   "outputs": [
    {
     "name": "stdout",
     "output_type": "stream",
     "text": [
      "[1 1 1 1 1 1 1 1 1 1 1 1 1 1 1 1 1 1 1 1 1 1 1 1 1 1 1 1 1 1 1 1 1 1 1 1 1\n",
      " 1 1 1 1 1 1 1 1 1 1 1 1 1 0 0 0 0 0 0 0 1 0 0 0 0 0 0 0 0 0 0 0 0 0 0 0 0\n",
      " 0 0 0 0 0 0 0 0 0 0 0 0 0 0 0 0 0 0 0 1 0 0 0 0 1 0 0 0 0 0 0 0 0 0 0 0 0\n",
      " 0 0 0 0 0 0 0 0 0 0 0 0 0 0 0 0 0 0 0 0 0 0 0 0 0 0 0 0 0 0 0 0 0 0 0 0 0\n",
      " 0 0]\n"
     ]
    },
    {
     "name": "stderr",
     "output_type": "stream",
     "text": [
      "C:\\Users\\CCC\\anaconda3\\Lib\\site-packages\\sklearn\\cluster\\_kmeans.py:1446: UserWarning: KMeans is known to have a memory leak on Windows with MKL, when there are less chunks than available threads. You can avoid it by setting the environment variable OMP_NUM_THREADS=1.\n",
      "  warnings.warn(\n"
     ]
    }
   ],
   "source": [
    "from sklearn.cluster import KMeans\n",
    "from sklearn.datasets import load_iris\n",
    "iris = load_iris()  \n",
    "km = KMeans(n_clusters=2) \n",
    "y = km.fit_predict(iris.data) #clustering on data \n",
    "print(y)"
   ]
  },
  {
   "cell_type": "code",
   "execution_count": null,
   "id": "93e95349-7e1d-4c7a-8853-d4b232052d72",
   "metadata": {},
   "outputs": [],
   "source": [
    "df_initial = pd.read_csv('C:/Users/CCC/Documents/Data analysis/data.csv',encoding=\"ISO-8859-1\",dtype={'CustomerID': str,'InvoiceID': str})\n",
    "print('Dataframe shape:', df_initial.shape)\n",
    "df_initial.head(2)"
   ]
  },
  {
   "cell_type": "code",
   "execution_count": 29,
   "id": "2b59d622-6adb-44b9-9de5-1b1ef264c85a",
   "metadata": {},
   "outputs": [
    {
     "data": {
      "text/html": [
       "<div>\n",
       "<style scoped>\n",
       "    .dataframe tbody tr th:only-of-type {\n",
       "        vertical-align: middle;\n",
       "    }\n",
       "\n",
       "    .dataframe tbody tr th {\n",
       "        vertical-align: top;\n",
       "    }\n",
       "\n",
       "    .dataframe thead th {\n",
       "        text-align: right;\n",
       "    }\n",
       "</style>\n",
       "<table border=\"1\" class=\"dataframe\">\n",
       "  <thead>\n",
       "    <tr style=\"text-align: right;\">\n",
       "      <th></th>\n",
       "      <th>InvoiceNo</th>\n",
       "      <th>StockCode</th>\n",
       "      <th>Description</th>\n",
       "      <th>Quantity</th>\n",
       "      <th>InvoiceDate</th>\n",
       "      <th>UnitPrice</th>\n",
       "      <th>CustomerID</th>\n",
       "      <th>Country</th>\n",
       "    </tr>\n",
       "  </thead>\n",
       "  <tbody>\n",
       "    <tr>\n",
       "      <th>0</th>\n",
       "      <td>536365</td>\n",
       "      <td>85123A</td>\n",
       "      <td>WHITE HANGING HEART T-LIGHT HOLDER</td>\n",
       "      <td>6</td>\n",
       "      <td>2010-12-01 08:26:00</td>\n",
       "      <td>2.55</td>\n",
       "      <td>17850</td>\n",
       "      <td>United Kingdom</td>\n",
       "    </tr>\n",
       "    <tr>\n",
       "      <th>1</th>\n",
       "      <td>536365</td>\n",
       "      <td>71053</td>\n",
       "      <td>WHITE METAL LANTERN</td>\n",
       "      <td>6</td>\n",
       "      <td>2010-12-01 08:26:00</td>\n",
       "      <td>3.39</td>\n",
       "      <td>17850</td>\n",
       "      <td>United Kingdom</td>\n",
       "    </tr>\n",
       "  </tbody>\n",
       "</table>\n",
       "</div>"
      ],
      "text/plain": [
       "  InvoiceNo StockCode                         Description  Quantity  \\\n",
       "0    536365    85123A  WHITE HANGING HEART T-LIGHT HOLDER         6   \n",
       "1    536365     71053                 WHITE METAL LANTERN         6   \n",
       "\n",
       "          InvoiceDate  UnitPrice CustomerID         Country  \n",
       "0 2010-12-01 08:26:00       2.55      17850  United Kingdom  \n",
       "1 2010-12-01 08:26:00       3.39      17850  United Kingdom  "
      ]
     },
     "execution_count": 29,
     "metadata": {},
     "output_type": "execute_result"
    }
   ],
   "source": [
    "df_initial['InvoiceDate'] = pd.to_datetime(df_initial['InvoiceDate'])\n",
    "df_initial.head(2)"
   ]
  },
  {
   "cell_type": "code",
   "execution_count": 11,
   "id": "56fc0d0c-7840-4650-95fe-a37f1790087a",
   "metadata": {},
   "outputs": [
    {
     "name": "stdout",
     "output_type": "stream",
     "text": [
      "no. missing values\n",
      " InvoiceNo           0\n",
      "StockCode           0\n",
      "Description      1454\n",
      "Quantity            0\n",
      "InvoiceDate         0\n",
      "UnitPrice           0\n",
      "CustomerID     135080\n",
      "Country             0\n",
      "dtype: int64\n"
     ]
    }
   ],
   "source": [
    "print(\"no. missing values\\n\", df_initial.isna().sum())"
   ]
  },
  {
   "cell_type": "code",
   "execution_count": 12,
   "id": "a118ddb2-54ee-483f-8d0f-706ae7133225",
   "metadata": {},
   "outputs": [
    {
     "name": "stdout",
     "output_type": "stream",
     "text": [
      "Dataframe dimensions: (406829, 8)\n",
      "no. missing values\n",
      " InvoiceNo      0\n",
      "StockCode      0\n",
      "Description    0\n",
      "Quantity       0\n",
      "InvoiceDate    0\n",
      "UnitPrice      0\n",
      "CustomerID     0\n",
      "Country        0\n",
      "dtype: int64\n"
     ]
    }
   ],
   "source": [
    "df_initial.dropna(axis = 0, subset = ['CustomerID'], inplace = True)\n",
    "print('Dataframe dimensions:', df_initial.shape)\n",
    "print(\"no. missing values\\n\", df_initial.isna().sum())"
   ]
  },
  {
   "cell_type": "code",
   "execution_count": 13,
   "id": "30c7cb85-a0e7-4810-8599-44e2225220fc",
   "metadata": {},
   "outputs": [
    {
     "name": "stdout",
     "output_type": "stream",
     "text": [
      "duplicate entries: 5225\n",
      "Dataframe shape: (401604, 8)\n"
     ]
    }
   ],
   "source": [
    "print('duplicate entries: {}'.format(df_initial.duplicated().sum()))\n",
    "df_initial.drop_duplicates(inplace = True)\n",
    "print('Dataframe shape:', df_initial.shape)"
   ]
  },
  {
   "cell_type": "code",
   "execution_count": 14,
   "id": "b767bbf9-ee47-4acf-9a55-527143f690f5",
   "metadata": {},
   "outputs": [
    {
     "data": {
      "text/html": [
       "<div>\n",
       "<style scoped>\n",
       "    .dataframe tbody tr th:only-of-type {\n",
       "        vertical-align: middle;\n",
       "    }\n",
       "\n",
       "    .dataframe tbody tr th {\n",
       "        vertical-align: top;\n",
       "    }\n",
       "\n",
       "    .dataframe thead th {\n",
       "        text-align: right;\n",
       "    }\n",
       "</style>\n",
       "<table border=\"1\" class=\"dataframe\">\n",
       "  <thead>\n",
       "    <tr style=\"text-align: right;\">\n",
       "      <th></th>\n",
       "      <th>products</th>\n",
       "      <th>transactions</th>\n",
       "      <th>customers</th>\n",
       "    </tr>\n",
       "  </thead>\n",
       "  <tbody>\n",
       "    <tr>\n",
       "      <th>quantity</th>\n",
       "      <td>3684</td>\n",
       "      <td>22190</td>\n",
       "      <td>4372</td>\n",
       "    </tr>\n",
       "  </tbody>\n",
       "</table>\n",
       "</div>"
      ],
      "text/plain": [
       "          products  transactions  customers\n",
       "quantity      3684         22190       4372"
      ]
     },
     "execution_count": 14,
     "metadata": {},
     "output_type": "execute_result"
    }
   ],
   "source": [
    "df_number = pd.DataFrame([{'products': len(df_initial['StockCode'].value_counts()), \n",
    "                           'transactions': len(df_initial['InvoiceNo'].value_counts()),\n",
    "                           'customers': len(df_initial['CustomerID'].value_counts())}], \n",
    "                         columns = ['products', 'transactions', 'customers'], index = ['quantity'])\n",
    "df_number.head()"
   ]
  },
  {
   "cell_type": "code",
   "execution_count": 15,
   "id": "8f73402c-b2eb-45d0-a711-7f186a8486b1",
   "metadata": {},
   "outputs": [
    {
     "data": {
      "text/html": [
       "<div>\n",
       "<style scoped>\n",
       "    .dataframe tbody tr th:only-of-type {\n",
       "        vertical-align: middle;\n",
       "    }\n",
       "\n",
       "    .dataframe tbody tr th {\n",
       "        vertical-align: top;\n",
       "    }\n",
       "\n",
       "    .dataframe thead th {\n",
       "        text-align: right;\n",
       "    }\n",
       "</style>\n",
       "<table border=\"1\" class=\"dataframe\">\n",
       "  <thead>\n",
       "    <tr style=\"text-align: right;\">\n",
       "      <th></th>\n",
       "      <th>CustomerID</th>\n",
       "      <th>InvoiceNo</th>\n",
       "      <th>Number of products</th>\n",
       "    </tr>\n",
       "  </thead>\n",
       "  <tbody>\n",
       "    <tr>\n",
       "      <th>0</th>\n",
       "      <td>12346</td>\n",
       "      <td>541431</td>\n",
       "      <td>1</td>\n",
       "    </tr>\n",
       "    <tr>\n",
       "      <th>1</th>\n",
       "      <td>12346</td>\n",
       "      <td>C541433</td>\n",
       "      <td>1</td>\n",
       "    </tr>\n",
       "    <tr>\n",
       "      <th>2</th>\n",
       "      <td>12347</td>\n",
       "      <td>537626</td>\n",
       "      <td>31</td>\n",
       "    </tr>\n",
       "    <tr>\n",
       "      <th>3</th>\n",
       "      <td>12347</td>\n",
       "      <td>542237</td>\n",
       "      <td>29</td>\n",
       "    </tr>\n",
       "    <tr>\n",
       "      <th>4</th>\n",
       "      <td>12347</td>\n",
       "      <td>549222</td>\n",
       "      <td>24</td>\n",
       "    </tr>\n",
       "    <tr>\n",
       "      <th>5</th>\n",
       "      <td>12347</td>\n",
       "      <td>556201</td>\n",
       "      <td>18</td>\n",
       "    </tr>\n",
       "    <tr>\n",
       "      <th>6</th>\n",
       "      <td>12347</td>\n",
       "      <td>562032</td>\n",
       "      <td>22</td>\n",
       "    </tr>\n",
       "    <tr>\n",
       "      <th>7</th>\n",
       "      <td>12347</td>\n",
       "      <td>573511</td>\n",
       "      <td>47</td>\n",
       "    </tr>\n",
       "    <tr>\n",
       "      <th>8</th>\n",
       "      <td>12347</td>\n",
       "      <td>581180</td>\n",
       "      <td>11</td>\n",
       "    </tr>\n",
       "    <tr>\n",
       "      <th>9</th>\n",
       "      <td>12348</td>\n",
       "      <td>539318</td>\n",
       "      <td>17</td>\n",
       "    </tr>\n",
       "  </tbody>\n",
       "</table>\n",
       "</div>"
      ],
      "text/plain": [
       "  CustomerID InvoiceNo  Number of products\n",
       "0      12346    541431                   1\n",
       "1      12346   C541433                   1\n",
       "2      12347    537626                  31\n",
       "3      12347    542237                  29\n",
       "4      12347    549222                  24\n",
       "5      12347    556201                  18\n",
       "6      12347    562032                  22\n",
       "7      12347    573511                  47\n",
       "8      12347    581180                  11\n",
       "9      12348    539318                  17"
      ]
     },
     "execution_count": 15,
     "metadata": {},
     "output_type": "execute_result"
    }
   ],
   "source": [
    "temp = df_initial.groupby(by=['CustomerID', 'InvoiceNo'], as_index=False)['InvoiceDate'].count()\n",
    "no_products_per_basket = temp.rename(columns = {'InvoiceDate':'Number of products'})\n",
    "no_products_per_basket[:10].sort_values('CustomerID')"
   ]
  },
  {
   "cell_type": "code",
   "execution_count": 16,
   "id": "a4d33ffc-7899-45ad-b75e-099f2f0f71ae",
   "metadata": {},
   "outputs": [
    {
     "name": "stdout",
     "output_type": "stream",
     "text": [
      "       InvoiceNo StockCode                         Description  Quantity  \\\n",
      "61619     541431     23166      MEDIUM CERAMIC TOP STORAGE JAR     74215   \n",
      "61624    C541433     23166      MEDIUM CERAMIC TOP STORAGE JAR    -74215   \n",
      "286623    562032     22375   AIRLINE BAG VINTAGE JET SET BROWN         4   \n",
      "72260     542237     84991         60 TEATIME FAIRY CAKE CASES        24   \n",
      "14943     537626     22772  PINK DRAWER KNOB ACRYLIC EDWARDIAN        12   \n",
      "\n",
      "               InvoiceDate  UnitPrice CustomerID         Country  \n",
      "61619  2011-01-18 10:01:00       1.04      12346  United Kingdom  \n",
      "61624  2011-01-18 10:17:00       1.04      12346  United Kingdom  \n",
      "286623 2011-08-02 08:48:00       4.25      12347         Iceland  \n",
      "72260  2011-01-26 14:30:00       0.55      12347         Iceland  \n",
      "14943  2010-12-07 14:57:00       1.25      12347         Iceland  \n"
     ]
    }
   ],
   "source": [
    "print(df_initial.sort_values('CustomerID')[:5])"
   ]
  },
  {
   "cell_type": "code",
   "execution_count": 17,
   "id": "364930cc-8393-4901-b499-302a0ea11254",
   "metadata": {},
   "outputs": [
    {
     "name": "stdout",
     "output_type": "stream",
     "text": [
      "141 CustomerID        14527\n",
      "Quantity             -1\n",
      "StockCode             D\n",
      "Description    Discount\n",
      "UnitPrice          27.5\n",
      "Name: 141, dtype: object\n",
      "---------------> HYPOTHESIS NOT FULFILLED\n"
     ]
    },
    {
     "name": "stderr",
     "output_type": "stream",
     "text": [
      "C:\\Users\\CCC\\AppData\\Local\\Temp\\ipykernel_4008\\68061424.py:5: FutureWarning: Series.__getitem__ treating keys as positions is deprecated. In a future version, integer keys will always be treated as labels (consistent with DataFrame behavior). To access a value by position, use `ser.iloc[pos]`\n",
      "  if df_initial[(df_initial['CustomerID'] == col[0]) & (df_initial['Quantity'] == -col[1])\n",
      "C:\\Users\\CCC\\AppData\\Local\\Temp\\ipykernel_4008\\68061424.py:6: FutureWarning: Series.__getitem__ treating keys as positions is deprecated. In a future version, integer keys will always be treated as labels (consistent with DataFrame behavior). To access a value by position, use `ser.iloc[pos]`\n",
      "  & (df_initial['Description'] == col[2])].shape[0] == 0:\n"
     ]
    }
   ],
   "source": [
    "df_check = df_initial[df_initial['Quantity'] < 0][['CustomerID','Quantity',\n",
    "                                                   'StockCode','Description','UnitPrice']]\n",
    "#print(df_check.head(5))\n",
    "for index, col in  df_check.iterrows():\n",
    "    if df_initial[(df_initial['CustomerID'] == col[0]) & (df_initial['Quantity'] == -col[1]) \n",
    "                & (df_initial['Description'] == col[2])].shape[0] == 0: \n",
    "        print(index, df_check.loc[index])\n",
    "        print(15*'-'+'>'+' HYPOTHESIS NOT FULFILLED')\n",
    "        break"
   ]
  },
  {
   "cell_type": "code",
   "execution_count": 18,
   "id": "b64400ec-80bb-415e-abef-025e57a46dc5",
   "metadata": {},
   "outputs": [
    {
     "name": "stdout",
     "output_type": "stream",
     "text": [
      "    CustomerID  Quantity StockCode                        Description  \\\n",
      "154      15311        -1    35004C    SET OF 3 COLOURED  FLYING DUCKS   \n",
      "235      17548       -12     22556     PLASTERS IN TIN CIRCUS PARADE    \n",
      "236      17548       -24     21984   PACK OF 12 PINK PAISLEY TISSUES    \n",
      "237      17548       -24     21983   PACK OF 12 BLUE PAISLEY TISSUES    \n",
      "238      17548       -24     21980  PACK OF 12 RED RETROSPOT TISSUES    \n",
      "\n",
      "     UnitPrice  \n",
      "154       4.65  \n",
      "235       1.65  \n",
      "236       0.29  \n",
      "237       0.29  \n",
      "238       0.29  \n",
      "154 CustomerID                               15311\n",
      "Quantity                                    -1\n",
      "StockCode                               35004C\n",
      "Description    SET OF 3 COLOURED  FLYING DUCKS\n",
      "UnitPrice                                 4.65\n",
      "Name: 154, dtype: object\n",
      "---------------> HYPOTHESIS NOT FULFILLED\n"
     ]
    },
    {
     "name": "stderr",
     "output_type": "stream",
     "text": [
      "C:\\Users\\CCC\\AppData\\Local\\Temp\\ipykernel_4008\\290411021.py:6: FutureWarning: Series.__getitem__ treating keys as positions is deprecated. In a future version, integer keys will always be treated as labels (consistent with DataFrame behavior). To access a value by position, use `ser.iloc[pos]`\n",
      "  if df_initial[(df_initial['CustomerID'] == col[0]) & (df_initial['Quantity'] == -col[1])\n",
      "C:\\Users\\CCC\\AppData\\Local\\Temp\\ipykernel_4008\\290411021.py:7: FutureWarning: Series.__getitem__ treating keys as positions is deprecated. In a future version, integer keys will always be treated as labels (consistent with DataFrame behavior). To access a value by position, use `ser.iloc[pos]`\n",
      "  & (df_initial['Description'] == col[2])].shape[0] == 0:\n"
     ]
    }
   ],
   "source": [
    "df_check = df_initial[(df_initial['Quantity'] < 0) & (df_initial['Description'] != 'Discount')][\n",
    "                                 ['CustomerID','Quantity','StockCode',\n",
    "                                  'Description','UnitPrice']]\n",
    "print(df_check.head(5))\n",
    "for index, col in  df_check.iterrows():\n",
    "    if df_initial[(df_initial['CustomerID'] == col[0]) & (df_initial['Quantity'] == -col[1]) \n",
    "                & (df_initial['Description'] == col[2])].shape[0] == 0: \n",
    "        print(index, df_check.loc[index])\n",
    "        print(15*'-'+'>'+' HYPOTHESIS NOT FULFILLED')\n",
    "        break"
   ]
  },
  {
   "cell_type": "code",
   "execution_count": null,
   "id": "9c064ded-beb3-4135-895f-1f3964787646",
   "metadata": {},
   "outputs": [],
   "source": [
    "df_cleaned.shape"
   ]
  },
  {
   "cell_type": "code",
   "execution_count": null,
   "id": "c9a7edbc-39ae-4667-8432-a3511f19949f",
   "metadata": {},
   "outputs": [],
   "source": [
    "df_initial.head()"
   ]
  },
  {
   "cell_type": "code",
   "execution_count": null,
   "id": "c3af0338-819a-427d-b9ff-3dff06f29d2a",
   "metadata": {},
   "outputs": [],
   "source": [
    "list_keywords = []\n",
    "for k,v in count_keywords.items():\n",
    "    list_keywords.append([keywords_select[k],v])\n",
    "list_keywords.sort(key = lambda x:x[1], reverse = True)\n",
    "print(len(list_keywords))"
   ]
  },
  {
   "cell_type": "code",
   "execution_count": null,
   "id": "c42f14b7-0994-442d-ad0a-f01c5782b86b",
   "metadata": {},
   "outputs": [],
   "source": [
    "fig, ax = plt.subplots(figsize=(17, 25))\n",
    "y_axis = [i[1] for i in list_keywords[:125]]\n",
    "x_axis = [k for k,i in enumerate(list_keywords[:125])]\n",
    "x_label = [i[0] for i in list_keywords[:125]]\n",
    "plt.xticks(fontsize = 15)\n",
    "plt.yticks(fontsize = 13)\n",
    "plt.yticks(x_axis, x_label)\n",
    "plt.xlabel(\"No. of occurences\", fontsize = 18, labelpad = 10)\n",
    "ax.barh(x_axis, y_axis, align = 'center')\n",
    "ax = plt.gca()\n",
    "ax.invert_yaxis()\n",
    "#_______________________________________________________________________________________\n",
    "plt.title(\"Words occurence\",bbox={'facecolor':'k', 'pad':5}, color='w',fontsize = 25)\n",
    "plt.show()"
   ]
  },
  {
   "cell_type": "code",
   "execution_count": null,
   "id": "0f6a24fe-f641-47dd-9c74-f8c3a7e5fa93",
   "metadata": {},
   "outputs": [],
   "source": [
    "n_clusters = 5\n",
    "kmeans = KMeans(init='k-means++', n_clusters = n_clusters, n_init=30)\n",
    "kmeans.fit(X)\n",
    "clusters = kmeans.predict(X)\n",
    "print(pd.Series(clusters).value_counts())\n",
    "from yellowbrick.cluster import SilhouetteVisualizer  \n",
    "visualizer = SilhouetteVisualizer(kmeans, colors='yellowbrick')\n",
    "visualizer.fit(X)        # Fit the data to the visualizer\n",
    "visualizer.show()        # Finalize and render the figure \n",
    "print(visualizer.silhouette_score_)  "
   ]
  },
  {
   "cell_type": "code",
   "execution_count": null,
   "id": "78f1969e-a470-4040-a766-069fd48d19ed",
   "metadata": {},
   "outputs": [],
   "source": []
  }
 ],
 "metadata": {
  "kernelspec": {
   "display_name": "Python 3 (ipykernel)",
   "language": "python",
   "name": "python3"
  },
  "language_info": {
   "codemirror_mode": {
    "name": "ipython",
    "version": 3
   },
   "file_extension": ".py",
   "mimetype": "text/x-python",
   "name": "python",
   "nbconvert_exporter": "python",
   "pygments_lexer": "ipython3",
   "version": "3.12.4"
  }
 },
 "nbformat": 4,
 "nbformat_minor": 5
}
